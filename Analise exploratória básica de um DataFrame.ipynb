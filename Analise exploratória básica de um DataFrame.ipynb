{
 "cells": [
  {
   "cell_type": "code",
   "execution_count": 1,
   "id": "6c8e5abf",
   "metadata": {},
   "outputs": [],
   "source": [
    "import pandas as pd\n",
    "import numpy as np\n",
    "import matplotlib.pyplot as plt\n",
    "import seaborn as sns"
   ]
  },
  {
   "cell_type": "code",
   "execution_count": 2,
   "id": "59882792",
   "metadata": {},
   "outputs": [],
   "source": [
    "df = pd.read_csv(\"C:/Users/samue/OneDrive/Documentos/datasets/clientes.csv\")"
   ]
  },
  {
   "cell_type": "code",
   "execution_count": 3,
   "id": "d1c39dcf",
   "metadata": {},
   "outputs": [
    {
     "data": {
      "text/html": [
       "<div>\n",
       "<style scoped>\n",
       "    .dataframe tbody tr th:only-of-type {\n",
       "        vertical-align: middle;\n",
       "    }\n",
       "\n",
       "    .dataframe tbody tr th {\n",
       "        vertical-align: top;\n",
       "    }\n",
       "\n",
       "    .dataframe thead th {\n",
       "        text-align: right;\n",
       "    }\n",
       "</style>\n",
       "<table border=\"1\" class=\"dataframe\">\n",
       "  <thead>\n",
       "    <tr style=\"text-align: right;\">\n",
       "      <th></th>\n",
       "      <th>IDCliente</th>\n",
       "      <th>Dependentes</th>\n",
       "      <th>MesesComoCliente</th>\n",
       "      <th>TipoContrato</th>\n",
       "      <th>FormaPagamento</th>\n",
       "      <th>TotalGasto</th>\n",
       "    </tr>\n",
       "  </thead>\n",
       "  <tbody>\n",
       "    <tr>\n",
       "      <th>0</th>\n",
       "      <td>7010-BRBUU</td>\n",
       "      <td>Sim</td>\n",
       "      <td>72.0</td>\n",
       "      <td>2 anos</td>\n",
       "      <td>CartaoCredito</td>\n",
       "      <td>1734.65</td>\n",
       "    </tr>\n",
       "    <tr>\n",
       "      <th>1</th>\n",
       "      <td>9688-YGXVR</td>\n",
       "      <td>Nao</td>\n",
       "      <td>NaN</td>\n",
       "      <td>Mensal</td>\n",
       "      <td>CartaoCredito</td>\n",
       "      <td>3973.2</td>\n",
       "    </tr>\n",
       "    <tr>\n",
       "      <th>2</th>\n",
       "      <td>9286-DOJGF</td>\n",
       "      <td>Nao</td>\n",
       "      <td>NaN</td>\n",
       "      <td>Mensal</td>\n",
       "      <td>DebitoAutomatico</td>\n",
       "      <td>2869.85</td>\n",
       "    </tr>\n",
       "    <tr>\n",
       "      <th>3</th>\n",
       "      <td>6994-KERXL</td>\n",
       "      <td>Nao</td>\n",
       "      <td>4.0</td>\n",
       "      <td>Mensal</td>\n",
       "      <td>BoletoEletronico</td>\n",
       "      <td>238.5</td>\n",
       "    </tr>\n",
       "    <tr>\n",
       "      <th>4</th>\n",
       "      <td>2181-UAESM</td>\n",
       "      <td>Nao</td>\n",
       "      <td>2.0</td>\n",
       "      <td>Mensal</td>\n",
       "      <td>BoletoEletronico</td>\n",
       "      <td>119.5</td>\n",
       "    </tr>\n",
       "  </tbody>\n",
       "</table>\n",
       "</div>"
      ],
      "text/plain": [
       "    IDCliente Dependentes  MesesComoCliente TipoContrato    FormaPagamento  \\\n",
       "0  7010-BRBUU         Sim              72.0       2 anos     CartaoCredito   \n",
       "1  9688-YGXVR         Nao               NaN       Mensal     CartaoCredito   \n",
       "2  9286-DOJGF         Nao               NaN       Mensal  DebitoAutomatico   \n",
       "3  6994-KERXL         Nao               4.0       Mensal  BoletoEletronico   \n",
       "4  2181-UAESM         Nao               2.0       Mensal  BoletoEletronico   \n",
       "\n",
       "  TotalGasto  \n",
       "0    1734.65  \n",
       "1     3973.2  \n",
       "2    2869.85  \n",
       "3      238.5  \n",
       "4      119.5  "
      ]
     },
     "execution_count": 3,
     "metadata": {},
     "output_type": "execute_result"
    }
   ],
   "source": [
    "df.head()"
   ]
  },
  {
   "cell_type": "code",
   "execution_count": 4,
   "id": "74c1a81a",
   "metadata": {},
   "outputs": [
    {
     "name": "stdout",
     "output_type": "stream",
     "text": [
      "<class 'pandas.core.frame.DataFrame'>\n",
      "RangeIndex: 5986 entries, 0 to 5985\n",
      "Data columns (total 6 columns):\n",
      " #   Column            Non-Null Count  Dtype  \n",
      "---  ------            --------------  -----  \n",
      " 0   IDCliente         5986 non-null   object \n",
      " 1   Dependentes       5985 non-null   object \n",
      " 2   MesesComoCliente  5984 non-null   float64\n",
      " 3   TipoContrato      5986 non-null   object \n",
      " 4   FormaPagamento    5986 non-null   object \n",
      " 5   TotalGasto        5986 non-null   object \n",
      "dtypes: float64(1), object(5)\n",
      "memory usage: 280.7+ KB\n"
     ]
    }
   ],
   "source": [
    "df.info()"
   ]
  },
  {
   "cell_type": "code",
   "execution_count": 6,
   "id": "3c0f2125",
   "metadata": {},
   "outputs": [],
   "source": [
    "df[\"TotalGasto\"] = pd.to_numeric(df[\"TotalGasto\"], errors='coerce')"
   ]
  },
  {
   "cell_type": "code",
   "execution_count": 7,
   "id": "760ccd72",
   "metadata": {},
   "outputs": [
    {
     "name": "stdout",
     "output_type": "stream",
     "text": [
      "<class 'pandas.core.frame.DataFrame'>\n",
      "RangeIndex: 5986 entries, 0 to 5985\n",
      "Data columns (total 6 columns):\n",
      " #   Column            Non-Null Count  Dtype  \n",
      "---  ------            --------------  -----  \n",
      " 0   IDCliente         5986 non-null   object \n",
      " 1   Dependentes       5985 non-null   object \n",
      " 2   MesesComoCliente  5984 non-null   float64\n",
      " 3   TipoContrato      5986 non-null   object \n",
      " 4   FormaPagamento    5986 non-null   object \n",
      " 5   TotalGasto        5976 non-null   float64\n",
      "dtypes: float64(2), object(4)\n",
      "memory usage: 280.7+ KB\n"
     ]
    }
   ],
   "source": [
    "df.info()"
   ]
  },
  {
   "cell_type": "code",
   "execution_count": 8,
   "id": "e0e03b2e",
   "metadata": {},
   "outputs": [
    {
     "data": {
      "text/html": [
       "<div>\n",
       "<style scoped>\n",
       "    .dataframe tbody tr th:only-of-type {\n",
       "        vertical-align: middle;\n",
       "    }\n",
       "\n",
       "    .dataframe tbody tr th {\n",
       "        vertical-align: top;\n",
       "    }\n",
       "\n",
       "    .dataframe thead th {\n",
       "        text-align: right;\n",
       "    }\n",
       "</style>\n",
       "<table border=\"1\" class=\"dataframe\">\n",
       "  <thead>\n",
       "    <tr style=\"text-align: right;\">\n",
       "      <th></th>\n",
       "      <th>IDCliente</th>\n",
       "      <th>Dependentes</th>\n",
       "      <th>MesesComoCliente</th>\n",
       "      <th>TipoContrato</th>\n",
       "      <th>FormaPagamento</th>\n",
       "      <th>TotalGasto</th>\n",
       "    </tr>\n",
       "  </thead>\n",
       "  <tbody>\n",
       "    <tr>\n",
       "      <th>0</th>\n",
       "      <td>7010-BRBUU</td>\n",
       "      <td>Sim</td>\n",
       "      <td>72.0</td>\n",
       "      <td>2 anos</td>\n",
       "      <td>CartaoCredito</td>\n",
       "      <td>1734.65</td>\n",
       "    </tr>\n",
       "    <tr>\n",
       "      <th>1</th>\n",
       "      <td>9688-YGXVR</td>\n",
       "      <td>Nao</td>\n",
       "      <td>NaN</td>\n",
       "      <td>Mensal</td>\n",
       "      <td>CartaoCredito</td>\n",
       "      <td>3973.20</td>\n",
       "    </tr>\n",
       "    <tr>\n",
       "      <th>2</th>\n",
       "      <td>9286-DOJGF</td>\n",
       "      <td>Nao</td>\n",
       "      <td>NaN</td>\n",
       "      <td>Mensal</td>\n",
       "      <td>DebitoAutomatico</td>\n",
       "      <td>2869.85</td>\n",
       "    </tr>\n",
       "    <tr>\n",
       "      <th>3</th>\n",
       "      <td>6994-KERXL</td>\n",
       "      <td>Nao</td>\n",
       "      <td>4.0</td>\n",
       "      <td>Mensal</td>\n",
       "      <td>BoletoEletronico</td>\n",
       "      <td>238.50</td>\n",
       "    </tr>\n",
       "    <tr>\n",
       "      <th>4</th>\n",
       "      <td>2181-UAESM</td>\n",
       "      <td>Nao</td>\n",
       "      <td>2.0</td>\n",
       "      <td>Mensal</td>\n",
       "      <td>BoletoEletronico</td>\n",
       "      <td>119.50</td>\n",
       "    </tr>\n",
       "  </tbody>\n",
       "</table>\n",
       "</div>"
      ],
      "text/plain": [
       "    IDCliente Dependentes  MesesComoCliente TipoContrato    FormaPagamento  \\\n",
       "0  7010-BRBUU         Sim              72.0       2 anos     CartaoCredito   \n",
       "1  9688-YGXVR         Nao               NaN       Mensal     CartaoCredito   \n",
       "2  9286-DOJGF         Nao               NaN       Mensal  DebitoAutomatico   \n",
       "3  6994-KERXL         Nao               4.0       Mensal  BoletoEletronico   \n",
       "4  2181-UAESM         Nao               2.0       Mensal  BoletoEletronico   \n",
       "\n",
       "   TotalGasto  \n",
       "0     1734.65  \n",
       "1     3973.20  \n",
       "2     2869.85  \n",
       "3      238.50  \n",
       "4      119.50  "
      ]
     },
     "execution_count": 8,
     "metadata": {},
     "output_type": "execute_result"
    }
   ],
   "source": [
    "df.head()"
   ]
  },
  {
   "cell_type": "code",
   "execution_count": 9,
   "id": "04737284",
   "metadata": {},
   "outputs": [
    {
     "data": {
      "text/plain": [
       "IDCliente            0\n",
       "Dependentes          1\n",
       "MesesComoCliente     2\n",
       "TipoContrato         0\n",
       "FormaPagamento       0\n",
       "TotalGasto          10\n",
       "dtype: int64"
      ]
     },
     "execution_count": 9,
     "metadata": {},
     "output_type": "execute_result"
    }
   ],
   "source": [
    "df.isna().sum()"
   ]
  },
  {
   "cell_type": "code",
   "execution_count": 16,
   "id": "de565856",
   "metadata": {},
   "outputs": [],
   "source": [
    "#method=\"ffill\" -> Substitui pelo valor anterior\n",
    "#method=\"bfill\" -> Substitui pelo valor seguinte\n",
    "\n",
    "df[\"Dependentes\"] = df[\"Dependentes\"].fillna(method=\"ffill\")"
   ]
  },
  {
   "cell_type": "code",
   "execution_count": 17,
   "id": "23b2c33a",
   "metadata": {},
   "outputs": [
    {
     "name": "stdout",
     "output_type": "stream",
     "text": [
      "<class 'pandas.core.frame.DataFrame'>\n",
      "RangeIndex: 5986 entries, 0 to 5985\n",
      "Data columns (total 6 columns):\n",
      " #   Column            Non-Null Count  Dtype  \n",
      "---  ------            --------------  -----  \n",
      " 0   IDCliente         5986 non-null   object \n",
      " 1   Dependentes       5986 non-null   object \n",
      " 2   MesesComoCliente  5984 non-null   float64\n",
      " 3   TipoContrato      5986 non-null   object \n",
      " 4   FormaPagamento    5986 non-null   object \n",
      " 5   TotalGasto        5976 non-null   float64\n",
      "dtypes: float64(2), object(4)\n",
      "memory usage: 280.7+ KB\n"
     ]
    }
   ],
   "source": [
    "df.info()"
   ]
  },
  {
   "cell_type": "code",
   "execution_count": 18,
   "id": "366fd920",
   "metadata": {},
   "outputs": [],
   "source": [
    "# df_mask=df['Sales']>=300\n",
    "# filtered_df = df[df_mask]\n",
    "# print(filtered_df)\n",
    "\n",
    "df_mask = df[\"TipoContrato\"] == \"Mensal\"\n",
    "\n",
    "filtred_df = df[df_mask]\n",
    "mean_mensal = filtred_df[\"MesesComoCliente\"].mean()\n"
   ]
  },
  {
   "cell_type": "code",
   "execution_count": 19,
   "id": "c537e889",
   "metadata": {},
   "outputs": [
    {
     "data": {
      "text/html": [
       "<div>\n",
       "<style scoped>\n",
       "    .dataframe tbody tr th:only-of-type {\n",
       "        vertical-align: middle;\n",
       "    }\n",
       "\n",
       "    .dataframe tbody tr th {\n",
       "        vertical-align: top;\n",
       "    }\n",
       "\n",
       "    .dataframe thead th {\n",
       "        text-align: right;\n",
       "    }\n",
       "</style>\n",
       "<table border=\"1\" class=\"dataframe\">\n",
       "  <thead>\n",
       "    <tr style=\"text-align: right;\">\n",
       "      <th></th>\n",
       "      <th>IDCliente</th>\n",
       "      <th>Dependentes</th>\n",
       "      <th>MesesComoCliente</th>\n",
       "      <th>TipoContrato</th>\n",
       "      <th>FormaPagamento</th>\n",
       "      <th>TotalGasto</th>\n",
       "    </tr>\n",
       "  </thead>\n",
       "  <tbody>\n",
       "    <tr>\n",
       "      <th>0</th>\n",
       "      <td>7010-BRBUU</td>\n",
       "      <td>Sim</td>\n",
       "      <td>72.000000</td>\n",
       "      <td>2 anos</td>\n",
       "      <td>CartaoCredito</td>\n",
       "      <td>1734.65</td>\n",
       "    </tr>\n",
       "    <tr>\n",
       "      <th>1</th>\n",
       "      <td>9688-YGXVR</td>\n",
       "      <td>Nao</td>\n",
       "      <td>18.068258</td>\n",
       "      <td>Mensal</td>\n",
       "      <td>CartaoCredito</td>\n",
       "      <td>3973.20</td>\n",
       "    </tr>\n",
       "    <tr>\n",
       "      <th>2</th>\n",
       "      <td>9286-DOJGF</td>\n",
       "      <td>Nao</td>\n",
       "      <td>18.068258</td>\n",
       "      <td>Mensal</td>\n",
       "      <td>DebitoAutomatico</td>\n",
       "      <td>2869.85</td>\n",
       "    </tr>\n",
       "    <tr>\n",
       "      <th>3</th>\n",
       "      <td>6994-KERXL</td>\n",
       "      <td>Nao</td>\n",
       "      <td>4.000000</td>\n",
       "      <td>Mensal</td>\n",
       "      <td>BoletoEletronico</td>\n",
       "      <td>238.50</td>\n",
       "    </tr>\n",
       "    <tr>\n",
       "      <th>4</th>\n",
       "      <td>2181-UAESM</td>\n",
       "      <td>Nao</td>\n",
       "      <td>2.000000</td>\n",
       "      <td>Mensal</td>\n",
       "      <td>BoletoEletronico</td>\n",
       "      <td>119.50</td>\n",
       "    </tr>\n",
       "  </tbody>\n",
       "</table>\n",
       "</div>"
      ],
      "text/plain": [
       "    IDCliente Dependentes  MesesComoCliente TipoContrato    FormaPagamento  \\\n",
       "0  7010-BRBUU         Sim         72.000000       2 anos     CartaoCredito   \n",
       "1  9688-YGXVR         Nao         18.068258       Mensal     CartaoCredito   \n",
       "2  9286-DOJGF         Nao         18.068258       Mensal  DebitoAutomatico   \n",
       "3  6994-KERXL         Nao          4.000000       Mensal  BoletoEletronico   \n",
       "4  2181-UAESM         Nao          2.000000       Mensal  BoletoEletronico   \n",
       "\n",
       "   TotalGasto  \n",
       "0     1734.65  \n",
       "1     3973.20  \n",
       "2     2869.85  \n",
       "3      238.50  \n",
       "4      119.50  "
      ]
     },
     "execution_count": 19,
     "metadata": {},
     "output_type": "execute_result"
    }
   ],
   "source": [
    "df[\"MesesComoCliente\"].fillna(mean_mensal, inplace=True)\n",
    "df.head()"
   ]
  },
  {
   "cell_type": "code",
   "execution_count": 20,
   "id": "e466c247",
   "metadata": {},
   "outputs": [
    {
     "name": "stdout",
     "output_type": "stream",
     "text": [
      "<class 'pandas.core.frame.DataFrame'>\n",
      "RangeIndex: 5986 entries, 0 to 5985\n",
      "Data columns (total 6 columns):\n",
      " #   Column            Non-Null Count  Dtype  \n",
      "---  ------            --------------  -----  \n",
      " 0   IDCliente         5986 non-null   object \n",
      " 1   Dependentes       5986 non-null   object \n",
      " 2   MesesComoCliente  5986 non-null   float64\n",
      " 3   TipoContrato      5986 non-null   object \n",
      " 4   FormaPagamento    5986 non-null   object \n",
      " 5   TotalGasto        5976 non-null   float64\n",
      "dtypes: float64(2), object(4)\n",
      "memory usage: 280.7+ KB\n"
     ]
    }
   ],
   "source": [
    "df.info()"
   ]
  },
  {
   "cell_type": "code",
   "execution_count": 21,
   "id": "1c07aa58",
   "metadata": {},
   "outputs": [],
   "source": [
    "df_mask1 = df[\"TotalGasto\"].mean()\n",
    "df[\"TotalGasto\"] = df[\"TotalGasto\"].fillna(df_mask1)"
   ]
  },
  {
   "cell_type": "code",
   "execution_count": 22,
   "id": "bd9141c2",
   "metadata": {},
   "outputs": [
    {
     "name": "stdout",
     "output_type": "stream",
     "text": [
      "<class 'pandas.core.frame.DataFrame'>\n",
      "RangeIndex: 5986 entries, 0 to 5985\n",
      "Data columns (total 6 columns):\n",
      " #   Column            Non-Null Count  Dtype  \n",
      "---  ------            --------------  -----  \n",
      " 0   IDCliente         5986 non-null   object \n",
      " 1   Dependentes       5986 non-null   object \n",
      " 2   MesesComoCliente  5986 non-null   float64\n",
      " 3   TipoContrato      5986 non-null   object \n",
      " 4   FormaPagamento    5986 non-null   object \n",
      " 5   TotalGasto        5986 non-null   float64\n",
      "dtypes: float64(2), object(4)\n",
      "memory usage: 280.7+ KB\n"
     ]
    }
   ],
   "source": [
    "df.info()"
   ]
  },
  {
   "cell_type": "code",
   "execution_count": 23,
   "id": "e81878b9",
   "metadata": {},
   "outputs": [
    {
     "name": "stderr",
     "output_type": "stream",
     "text": [
      "C:\\Users\\samue\\AppData\\Local\\Programs\\Python\\Python310\\lib\\site-packages\\seaborn\\categorical.py:3717: UserWarning: The `factorplot` function has been renamed to `catplot`. The original name will be removed in a future release. Please update your code. Note that the default `kind` in `factorplot` (`'point'`) has changed `'strip'` in `catplot`.\n",
      "  warnings.warn(msg)\n",
      "C:\\Users\\samue\\AppData\\Local\\Programs\\Python\\Python310\\lib\\site-packages\\seaborn\\_decorators.py:36: FutureWarning: Pass the following variable as a keyword arg: x. From version 0.12, the only valid positional argument will be `data`, and passing other arguments without an explicit keyword will result in an error or misinterpretation.\n",
      "  warnings.warn(\n"
     ]
    },
    {
     "data": {
      "text/plain": [
       "<seaborn.axisgrid.FacetGrid at 0x1e91dde5600>"
      ]
     },
     "execution_count": 23,
     "metadata": {},
     "output_type": "execute_result"
    },
    {
     "data": {
      "image/png": "[encoded data removed]",
      "text/plain": [
       "<Figure size 360x360 with 1 Axes>"
      ]
     },
     "metadata": {
      "needs_background": "light"
     },
     "output_type": "display_data"
    }
   ],
   "source": [
    "sns.factorplot(\"TipoContrato\",data=df, kind=\"count\")"
   ]
  },
  {
   "cell_type": "code",
   "execution_count": 33,
   "id": "56528ffb",
   "metadata": {},
   "outputs": [
    {
     "data": {
      "text/plain": [
       "<matplotlib.legend.Legend at 0x1ae22ee5720>"
      ]
     },
     "execution_count": 33,
     "metadata": {},
     "output_type": "execute_result"
    },
    {
     "data": {
      "image/png": "[encoded data removed]",
      "text/plain": [
       "<Figure size 432x288 with 1 Axes>"
      ]
     },
     "metadata": {},
     "output_type": "display_data"
    }
   ],
   "source": [
    "df.TipoContrato.value_counts().plot(kind='pie', autopct='%.2f%%')\n",
    "plt.axis('equal')  # Para deixar o gráfico redondo\n",
    "plt.legend([\"Mensal\", \"2 anos\", \"Anual\"])"
   ]
  }
 ],
 "metadata": {
  "kernelspec": {
   "display_name": "Python 3 (ipykernel)",
   "language": "python",
   "name": "python3"
  },
  "language_info": {
   "codemirror_mode": {
    "name": "ipython",
    "version": 3
   },
   "file_extension": ".py",
   "mimetype": "text/x-python",
   "name": "python",
   "nbconvert_exporter": "python",
   "pygments_lexer": "ipython3",
   "version": "3.10.2"
  }
 },
 "nbformat": 4,
 "nbformat_minor": 5
}
